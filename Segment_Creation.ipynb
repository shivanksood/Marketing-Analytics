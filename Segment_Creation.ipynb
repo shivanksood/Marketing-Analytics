{
  "nbformat": 4,
  "nbformat_minor": 0,
  "metadata": {
    "colab": {
      "name": "Copy of Welcome To Colaboratory",
      "provenance": [],
      "collapsed_sections": [],
      "machine_shape": "hm"
    },
    "kernelspec": {
      "display_name": "Python 3",
      "name": "python3"
    }
  },
  "cells": [
    {
      "cell_type": "code",
      "metadata": {
        "id": "GxhkXj3y3eBt",
        "colab_type": "code",
        "colab": {}
      },
      "source": [
        "import pandas as pd\n",
        "import datetime as dt\n",
        "pd.set_option('display.max_columns', 999)\n",
        "from dateutil.relativedelta import relativedelta\n",
        "from matplotlib import pyplot as plt\n",
        "import numpy as np\n",
        "from sklearn.cluster import KMeans\n",
        "from sklearn.preprocessing import StandardScaler\n",
        "import math\n",
        "\n",
        "from pydrive.auth import GoogleAuth\n",
        "from pydrive.drive import GoogleDrive\n",
        "from google.colab import auth\n",
        "from oauth2client.client import GoogleCredentials\n",
        "\n",
        "auth.authenticate_user()\n",
        "gauth = GoogleAuth()\n",
        "gauth.credentials = GoogleCredentials.get_application_default()\n",
        "drive = GoogleDrive(gauth)\n",
        "\n",
        "import matplotlib.pyplot as plt"
      ],
      "execution_count": 0,
      "outputs": []
    },
    {
      "cell_type": "code",
      "metadata": {
        "id": "JtMTwmxl5rSm",
        "colab_type": "code",
        "outputId": "12796f90-63d9-4f75-f199-e738503fb62a",
        "colab": {
          "base_uri": "https://localhost:8080/",
          "height": 122
        }
      },
      "source": [
        "from google.colab import drive\n",
        "drive.mount('/content/drive')"
      ],
      "execution_count": 0,
      "outputs": [
        {
          "output_type": "stream",
          "text": [
            "Go to this URL in a browser: https://accounts.google.com/o/oauth2/auth?client_id=947318989803-6bn6qk8qdgf4n4g3pfee6491hc0brc4i.apps.googleusercontent.com&redirect_uri=urn%3Aietf%3Awg%3Aoauth%3A2.0%3Aoob&scope=email%20https%3A%2F%2Fwww.googleapis.com%2Fauth%2Fdocs.test%20https%3A%2F%2Fwww.googleapis.com%2Fauth%2Fdrive%20https%3A%2F%2Fwww.googleapis.com%2Fauth%2Fdrive.photos.readonly%20https%3A%2F%2Fwww.googleapis.com%2Fauth%2Fpeopleapi.readonly&response_type=code\n",
            "\n",
            "Enter your authorization code:\n",
            "··········\n",
            "Mounted at /content/drive\n"
          ],
          "name": "stdout"
        }
      ]
    },
    {
      "cell_type": "code",
      "metadata": {
        "id": "OJX-iCqw7-yc",
        "colab_type": "code",
        "colab": {}
      },
      "source": [
        "def download_file(file_id, file_name):\n",
        "    downloaded = drive.CreateFile({'id': file_id})\n",
        "    downloaded.GetContentFile(file_name)\n",
        "\n",
        "def upload_file(file_name):\n",
        "    uploaded = drive.CreateFile({'title': file_name})\n",
        "    uploaded.SetContentFile(file_name)\n",
        "    uploaded.Upload()"
      ],
      "execution_count": 0,
      "outputs": []
    },
    {
      "cell_type": "code",
      "metadata": {
        "id": "t-mHQJAH34Uq",
        "colab_type": "code",
        "outputId": "3f1be40f-d9a9-4657-9483-3e6d3f08549b",
        "colab": {
          "base_uri": "https://localhost:8080/",
          "height": 306
        }
      },
      "source": [
        "!unzip \"/content/drive/My Drive/Marketing Analytics 1/data.zip\""
      ],
      "execution_count": 0,
      "outputs": [
        {
          "output_type": "stream",
          "text": [
            "Archive:  /content/drive/My Drive/Marketing Analytics 1/data.zip\n",
            "   creating: data/\n",
            "  inflating: __MACOSX/._data         \n",
            "  inflating: data/Data_Dictionary.xlsx  \n",
            "  inflating: __MACOSX/data/._Data_Dictionary.xlsx  \n",
            "  inflating: data/new_merchant_transactions.csv  \n",
            "  inflating: __MACOSX/data/._new_merchant_transactions.csv  \n",
            "  inflating: data/test.csv           \n",
            "  inflating: __MACOSX/data/._test.csv  \n",
            "  inflating: data/merchants.csv      \n",
            "  inflating: __MACOSX/data/._merchants.csv  \n",
            "  inflating: data/historical_transactions.csv  \n",
            "  inflating: __MACOSX/data/._historical_transactions.csv  \n",
            "  inflating: data/train.csv          \n",
            "  inflating: __MACOSX/data/._train.csv  \n",
            "  inflating: data/sample_submission.csv  \n",
            "  inflating: __MACOSX/data/._sample_submission.csv  \n"
          ],
          "name": "stdout"
        }
      ]
    },
    {
      "cell_type": "code",
      "metadata": {
        "id": "MM-_-m6y5WYE",
        "colab_type": "code",
        "colab": {}
      },
      "source": [
        "train = pd.read_csv(\"/content/data/train.csv\",parse_dates=[\"first_active_month\"])\n",
        "merchant = pd.read_csv(\"/content/data/merchants.csv\")\n",
        "merchant_hist_trx = pd.read_csv(\"/content/data/historical_transactions.csv\",parse_dates=['purchase_date'])\n",
        "merchant_trx = pd.read_csv(\"/content/data/new_merchant_transactions.csv\",parse_dates=['purchase_date'])\n",
        "trx = pd.concat([merchant_hist_trx,merchant_trx],axis=0)\n",
        "end_date = dt.datetime(2018,5,2,0,0,0)"
      ],
      "execution_count": 0,
      "outputs": []
    },
    {
      "cell_type": "code",
      "metadata": {
        "id": "Mar2tQS44ruK",
        "colab_type": "code",
        "colab": {}
      },
      "source": [
        "#### Converting Amount into number\n",
        "trx['purchase_amount_new'] = np.round(trx['purchase_amount'] / 0.00150265118 + 497.06,8)"
      ],
      "execution_count": 0,
      "outputs": []
    },
    {
      "cell_type": "code",
      "metadata": {
        "id": "DyL88Nkd7Gef",
        "colab_type": "code",
        "colab": {}
      },
      "source": [
        "#### RFM Cust\n",
        "rfm_cust = trx.groupby(['card_id']).agg({\"card_id\":\"count\",\n",
        "                                         \"purchase_amount_new\":[\"sum\",'mean'],\n",
        "                                         \"purchase_date\":[lambda x:end_date-x.max(),\n",
        "                                                          lambda x:end_date-x.min()]})\n",
        "\n",
        "rfm_cust.columns = [\"frequency\",\"monetary\",\"avg_monetary\",\"recency\",\"aon\"]\n",
        "rfm_cust = rfm_cust.reset_index()\n",
        "\n",
        "rfm_cust = rfm_cust[['card_id','frequency','monetary',\"avg_monetary\",'recency','aon']]\n",
        "\n",
        "rfm_cust['recency'] = rfm_cust['recency'].dt.days\n",
        "rfm_cust['aon'] = rfm_cust['aon'].dt.days"
      ],
      "execution_count": 0,
      "outputs": []
    },
    {
      "cell_type": "code",
      "metadata": {
        "id": "GLsAwdaP9RuE",
        "colab_type": "code",
        "colab": {}
      },
      "source": [
        "def create_rfma_segment(row):\n",
        "  return row['recency_bracket']+row['freq_bracket']+row['monetary_bracket']+row['aon_bracket']\n",
        "\n",
        "def create_rfm_segment(row):\n",
        "  return row['recency_bracket']+row['freq_bracket']+row['monetary_bracket']"
      ],
      "execution_count": 0,
      "outputs": []
    },
    {
      "cell_type": "code",
      "metadata": {
        "id": "A2TbS-xEHvsv",
        "colab_type": "code",
        "colab": {}
      },
      "source": [
        "def get_bracket(data,column,output):\n",
        "  data = rfm_cust.sort_values(column,ascending=False)\n",
        "  data['rel'] = data[column]/data[column].sum()\n",
        "  data['rel_c'] = data['rel'].cumsum()\n",
        "  data[output] = pd.cut(data['rel_c'],5,labels=['5','4','3','2','1'])\n",
        "  del data['rel']\n",
        "  del data['rel_c']\n",
        "  return data"
      ],
      "execution_count": 0,
      "outputs": []
    },
    {
      "cell_type": "code",
      "metadata": {
        "id": "flA4irQAIgIP",
        "colab_type": "code",
        "colab": {}
      },
      "source": [
        "rfm_cust = get_bracket(rfm_cust,'recency','recency_bracket')\n",
        "rfm_cust = get_bracket(rfm_cust,'frequency','freq_bracket')\n",
        "rfm_cust = get_bracket(rfm_cust,'monetary','monetary_bracket')\n",
        "rfm_cust = get_bracket(rfm_cust,'aon','aon_bracket')\n",
        "\n",
        "rfm_cust['rfma'] = rfm_cust.apply(create_rfma_segment,axis=1)\n",
        "rfm_cust['rfm'] = rfm_cust.apply(create_rfm_segment,axis=1)"
      ],
      "execution_count": 0,
      "outputs": []
    },
    {
      "cell_type": "code",
      "metadata": {
        "id": "T0tdpXsmR_En",
        "colab_type": "code",
        "colab": {}
      },
      "source": [
        "rfm_cust.to_csv('rfm_customer.csv',index=False)"
      ],
      "execution_count": 0,
      "outputs": []
    },
    {
      "cell_type": "code",
      "metadata": {
        "id": "d1AfR1cwSUo8",
        "colab_type": "code",
        "colab": {}
      },
      "source": [
        "rfm_cust['transactions_per_day'] = rfm_cust['frequency']/rfm_cust['aon']"
      ],
      "execution_count": 0,
      "outputs": []
    },
    {
      "cell_type": "code",
      "metadata": {
        "id": "FyINW1IrS9L6",
        "colab_type": "code",
        "outputId": "a20f01c2-42e0-4be6-bf20-e0154016e418",
        "colab": {
          "base_uri": "https://localhost:8080/",
          "height": 164
        }
      },
      "source": [
        "rfm_cust"
      ],
      "execution_count": 0,
      "outputs": [
        {
          "output_type": "error",
          "ename": "NameError",
          "evalue": "ignored",
          "traceback": [
            "\u001b[0;31m---------------------------------------------------------------------------\u001b[0m",
            "\u001b[0;31mNameError\u001b[0m                                 Traceback (most recent call last)",
            "\u001b[0;32m<ipython-input-2-9b1d651e52e6>\u001b[0m in \u001b[0;36m<module>\u001b[0;34m()\u001b[0m\n\u001b[0;32m----> 1\u001b[0;31m \u001b[0mrfm_cust\u001b[0m\u001b[0;34m\u001b[0m\u001b[0;34m\u001b[0m\u001b[0m\n\u001b[0m",
            "\u001b[0;31mNameError\u001b[0m: name 'rfm_cust' is not defined"
          ]
        }
      ]
    },
    {
      "cell_type": "code",
      "metadata": {
        "id": "d6tdHq77LxWF",
        "colab_type": "code",
        "outputId": "fc2db365-be69-41cc-ef9f-100acff665a1",
        "colab": {
          "base_uri": "https://localhost:8080/",
          "height": 102
        }
      },
      "source": [
        "# print(rfm_cust[rfm_cust['recency_bracket']=='1']['recency'].mean())\n",
        "# print(rfm_cust[rfm_cust['recency_bracket']=='2']['recency'].mean())\n",
        "# print(rfm_cust[rfm_cust['recency_bracket']=='3']['recency'].mean())\n",
        "# print(rfm_cust[rfm_cust['recency_bracket']=='4']['recency'].mean())\n",
        "# print(rfm_cust[rfm_cust['recency_bracket']=='5']['recency'].mean())\n",
        "#print(rfm_cust[rfm_cust['recency_bracket']=='1']['recency'].mean())\n",
        "#print(rfm_cust[rfm_cust['monetary_bracket']=='1']['monetary'].mean())"
      ],
      "execution_count": 0,
      "outputs": [
        {
          "output_type": "stream",
          "text": [
            "16.82872164939084\n",
            "74.66036975060986\n",
            "135.19150877961522\n",
            "220.65631889411904\n",
            "316.37596104561766\n"
          ],
          "name": "stdout"
        }
      ]
    },
    {
      "cell_type": "code",
      "metadata": {
        "id": "fh10tBoCzqmG",
        "colab_type": "code",
        "colab": {}
      },
      "source": [
        "# rfm_cust['freq_bracket'] = pd.cut(rfm_cust['frequency'], bins=3,labels=['1','2','3'])\n",
        "# rfm_cust['monetary_bracket'] = pd.cut(rfm_cust['monetary'], bins=3,labels=['1','2','3'])\n",
        "# rfm_cust['recency_bracket'] = pd.cut(rfm_cust['recency'], bins=3,labels=['3','2','1'])\n",
        "# rfm_cust['aon_bracket'] = pd.cut(rfm_cust['aon'], bins=3,labels=['1','2','3'])\n",
        "# rfm_cust['rfma'] = rfm_cust.apply(create_rfma_segment,axis=1)\n",
        "# rfm_cust['rfm'] = rfm_cust.apply(create_rfm_segment,axis=1)"
      ],
      "execution_count": 0,
      "outputs": []
    },
    {
      "cell_type": "code",
      "metadata": {
        "id": "zL5cJExHc_LQ",
        "colab_type": "code",
        "colab": {}
      },
      "source": [
        "scaler = StandardScaler()\n",
        "scaler.fit(rfm_cust[['recency','frequency','monetary']])\n",
        "rfm_cust_arr_scaled = scaler.transform(rfm_cust[['recency','frequency','monetary']])"
      ],
      "execution_count": 0,
      "outputs": []
    },
    {
      "cell_type": "code",
      "metadata": {
        "id": "5JMgaJPWd2hY",
        "colab_type": "code",
        "outputId": "f3c3c69a-8710-4a6e-ccee-8ce2ee710991",
        "colab": {
          "base_uri": "https://localhost:8080/",
          "height": 295
        }
      },
      "source": [
        "wcss = []\n",
        "\n",
        "for i in range(1, 11):\n",
        "    kmeans = KMeans(n_clusters=i, init='k-means++', max_iter=300, n_init=10, random_state=0)\n",
        "    kmeans.fit(rfm_cust_arr_scaled)\n",
        "    wcss.append(kmeans.inertia_)\n",
        "    \n",
        "plt.plot(range(1, 11), wcss)\n",
        "plt.title('Elbow Method')\n",
        "plt.xlabel('Number of clusters')\n",
        "plt.ylabel('WCSS')\n",
        "plt.show()"
      ],
      "execution_count": 0,
      "outputs": [
        {
          "output_type": "display_data",
          "data": {
            "image/png": "[encoded data removed]",
            "text/plain": [
              "<Figure size 432x288 with 1 Axes>"
            ]
          },
          "metadata": {
            "tags": []
          }
        }
      ]
    },
    {
      "cell_type": "code",
      "metadata": {
        "id": "YuqCJJ09d5Av",
        "colab_type": "code",
        "colab": {}
      },
      "source": [
        "kmeans = KMeans(n_clusters=4, init='k-means++', max_iter=300, n_init=10, random_state=0)\n",
        "pred_y = kmeans.fit_predict(rfm_cust_arr_scaled)"
      ],
      "execution_count": 0,
      "outputs": []
    },
    {
      "cell_type": "code",
      "metadata": {
        "id": "OC-3JjcnePyw",
        "colab_type": "code",
        "colab": {}
      },
      "source": [
        "rfm_cust_segments = rfm_cust.copy()\n",
        "rfm_cust_segments['segments'] = pred_y"
      ],
      "execution_count": 0,
      "outputs": []
    },
    {
      "cell_type": "code",
      "metadata": {
        "id": "CuU_X9v3eUN0",
        "colab_type": "code",
        "outputId": "34581adb-eb66-4e71-81f2-3e3fac5cbe58",
        "colab": {
          "base_uri": "https://localhost:8080/",
          "height": 85
        }
      },
      "source": [
        "scaler.inverse_transform(kmeans.cluster_centers_)"
      ],
      "execution_count": 0,
      "outputs": [
        {
          "output_type": "execute_result",
          "data": {
            "text/plain": [
              "array([[3.27673096e+01, 6.81581057e+01, 2.69072550e+04],\n",
              "       [2.30424805e+01, 3.39999650e+02, 1.05923445e+05],\n",
              "       [2.22671386e+02, 5.83269896e+01, 2.61192305e+04],\n",
              "       [2.31000000e+02, 1.90000000e+01, 4.00000055e+09]])"
            ]
          },
          "metadata": {
            "tags": []
          },
          "execution_count": 60
        }
      ]
    },
    {
      "cell_type": "code",
      "metadata": {
        "id": "0_cFnaTWlIuP",
        "colab_type": "code",
        "colab": {}
      },
      "source": [
        "rfm_cust['freq_bracket1'] = pd.cut(rfm_cust['frequency'], bins=3)\n",
        "rfm_cust['monetary_bracket1'] = pd.cut(rfm_cust['monetary'], bins=3)\n",
        "rfm_cust['recency_bracket1'] = pd.cut(rfm_cust['recency'], bins=3)"
      ],
      "execution_count": 0,
      "outputs": []
    },
    {
      "cell_type": "code",
      "metadata": {
        "id": "cIgcc4pIeVos",
        "colab_type": "code",
        "outputId": "fb5e1d7c-4bca-4816-9ca2-5e18d64a5989",
        "colab": {
          "base_uri": "https://localhost:8080/",
          "height": 272
        }
      },
      "source": [
        "pd.cut(rfm_cust['monetary'], bins=5)\n"
      ],
      "execution_count": 0,
      "outputs": [
        {
          "output_type": "execute_result",
          "data": {
            "text/plain": [
              "0         (-3999994.571, 800000114.222]\n",
              "1         (-3999994.571, 800000114.222]\n",
              "2         (-3999994.571, 800000114.222]\n",
              "3         (-3999994.571, 800000114.222]\n",
              "4         (-3999994.571, 800000114.222]\n",
              "                      ...              \n",
              "325535    (-3999994.571, 800000114.222]\n",
              "325536    (-3999994.571, 800000114.222]\n",
              "325537    (-3999994.571, 800000114.222]\n",
              "325538    (-3999994.571, 800000114.222]\n",
              "325539    (-3999994.571, 800000114.222]\n",
              "Name: monetary, Length: 325540, dtype: category\n",
              "Categories (5, interval[float64]): [(-3999994.571, 800000114.222] < (800000114.222, 1600000222.473] <\n",
              "                                    (1600000222.473, 2400000330.725] < (2400000330.725, 3200000438.977] <\n",
              "                                    (3200000438.977, 4000000547.228]]"
            ]
          },
          "metadata": {
            "tags": []
          },
          "execution_count": 80
        }
      ]
    },
    {
      "cell_type": "code",
      "metadata": {
        "id": "gvDzF5GIisv6",
        "colab_type": "code",
        "outputId": "19f30e7d-f451-4c7d-c6df-d8a65f348b99",
        "colab": {
          "base_uri": "https://localhost:8080/",
          "height": 297
        }
      },
      "source": [
        "rfm_cust[rfm_cust['rfm']=='111'].describe()"
      ],
      "execution_count": 0,
      "outputs": [
        {
          "output_type": "execute_result",
          "data": {
            "text/html": [
              "<div>\n",
              "<style scoped>\n",
              "    .dataframe tbody tr th:only-of-type {\n",
              "        vertical-align: middle;\n",
              "    }\n",
              "\n",
              "    .dataframe tbody tr th {\n",
              "        vertical-align: top;\n",
              "    }\n",
              "\n",
              "    .dataframe thead th {\n",
              "        text-align: right;\n",
              "    }\n",
              "</style>\n",
              "<table border=\"1\" class=\"dataframe\">\n",
              "  <thead>\n",
              "    <tr style=\"text-align: right;\">\n",
              "      <th></th>\n",
              "      <th>frequency</th>\n",
              "      <th>monetary</th>\n",
              "      <th>avg_monetary</th>\n",
              "      <th>recency</th>\n",
              "      <th>aon</th>\n",
              "    </tr>\n",
              "  </thead>\n",
              "  <tbody>\n",
              "    <tr>\n",
              "      <th>count</th>\n",
              "      <td>289125.000000</td>\n",
              "      <td>2.891250e+05</td>\n",
              "      <td>2.891250e+05</td>\n",
              "      <td>289125.000000</td>\n",
              "      <td>289125.000000</td>\n",
              "    </tr>\n",
              "    <tr>\n",
              "      <th>mean</th>\n",
              "      <td>99.225999</td>\n",
              "      <td>3.627150e+04</td>\n",
              "      <td>4.385603e+02</td>\n",
              "      <td>33.953415</td>\n",
              "      <td>339.504761</td>\n",
              "    </tr>\n",
              "    <tr>\n",
              "      <th>std</th>\n",
              "      <td>110.170508</td>\n",
              "      <td>9.430773e+05</td>\n",
              "      <td>1.945910e+04</td>\n",
              "      <td>35.726257</td>\n",
              "      <td>120.057696</td>\n",
              "    </tr>\n",
              "    <tr>\n",
              "      <th>min</th>\n",
              "      <td>2.000000</td>\n",
              "      <td>1.060000e+01</td>\n",
              "      <td>1.546501e+00</td>\n",
              "      <td>0.000000</td>\n",
              "      <td>120.000000</td>\n",
              "    </tr>\n",
              "    <tr>\n",
              "      <th>25%</th>\n",
              "      <td>32.000000</td>\n",
              "      <td>2.640580e+03</td>\n",
              "      <td>4.680778e+01</td>\n",
              "      <td>5.000000</td>\n",
              "      <td>230.000000</td>\n",
              "    </tr>\n",
              "    <tr>\n",
              "      <th>50%</th>\n",
              "      <td>63.000000</td>\n",
              "      <td>5.754220e+03</td>\n",
              "      <td>8.590759e+01</td>\n",
              "      <td>20.000000</td>\n",
              "      <td>347.000000</td>\n",
              "    </tr>\n",
              "    <tr>\n",
              "      <th>75%</th>\n",
              "      <td>123.000000</td>\n",
              "      <td>1.288668e+04</td>\n",
              "      <td>1.658920e+02</td>\n",
              "      <td>54.000000</td>\n",
              "      <td>467.000000</td>\n",
              "    </tr>\n",
              "    <tr>\n",
              "      <th>max</th>\n",
              "      <td>1786.000000</td>\n",
              "      <td>1.100148e+08</td>\n",
              "      <td>6.406137e+06</td>\n",
              "      <td>151.000000</td>\n",
              "      <td>484.000000</td>\n",
              "    </tr>\n",
              "  </tbody>\n",
              "</table>\n",
              "</div>"
            ],
            "text/plain": [
              "           frequency      monetary  avg_monetary        recency            aon\n",
              "count  289125.000000  2.891250e+05  2.891250e+05  289125.000000  289125.000000\n",
              "mean       99.225999  3.627150e+04  4.385603e+02      33.953415     339.504761\n",
              "std       110.170508  9.430773e+05  1.945910e+04      35.726257     120.057696\n",
              "min         2.000000  1.060000e+01  1.546501e+00       0.000000     120.000000\n",
              "25%        32.000000  2.640580e+03  4.680778e+01       5.000000     230.000000\n",
              "50%        63.000000  5.754220e+03  8.590759e+01      20.000000     347.000000\n",
              "75%       123.000000  1.288668e+04  1.658920e+02      54.000000     467.000000\n",
              "max      1786.000000  1.100148e+08  6.406137e+06     151.000000     484.000000"
            ]
          },
          "metadata": {
            "tags": []
          },
          "execution_count": 63
        }
      ]
    },
    {
      "cell_type": "code",
      "metadata": {
        "id": "HQWzpb5Si2_E",
        "colab_type": "code",
        "outputId": "249faa9c-3270-4de4-9c22-a5e8a79cd3e2",
        "colab": {
          "base_uri": "https://localhost:8080/",
          "height": 297
        }
      },
      "source": [
        "rfm_cust[rfm_cust['rfm']=='211'].describe()"
      ],
      "execution_count": 0,
      "outputs": [
        {
          "output_type": "execute_result",
          "data": {
            "text/html": [
              "<div>\n",
              "<style scoped>\n",
              "    .dataframe tbody tr th:only-of-type {\n",
              "        vertical-align: middle;\n",
              "    }\n",
              "\n",
              "    .dataframe tbody tr th {\n",
              "        vertical-align: top;\n",
              "    }\n",
              "\n",
              "    .dataframe thead th {\n",
              "        text-align: right;\n",
              "    }\n",
              "</style>\n",
              "<table border=\"1\" class=\"dataframe\">\n",
              "  <thead>\n",
              "    <tr style=\"text-align: right;\">\n",
              "      <th></th>\n",
              "      <th>frequency</th>\n",
              "      <th>monetary</th>\n",
              "      <th>avg_monetary</th>\n",
              "      <th>recency</th>\n",
              "      <th>aon</th>\n",
              "    </tr>\n",
              "  </thead>\n",
              "  <tbody>\n",
              "    <tr>\n",
              "      <th>count</th>\n",
              "      <td>28924.000000</td>\n",
              "      <td>2.892400e+04</td>\n",
              "      <td>2.892400e+04</td>\n",
              "      <td>28924.000000</td>\n",
              "      <td>28924.000000</td>\n",
              "    </tr>\n",
              "    <tr>\n",
              "      <th>mean</th>\n",
              "      <td>69.245229</td>\n",
              "      <td>2.908554e+04</td>\n",
              "      <td>5.652139e+02</td>\n",
              "      <td>214.060538</td>\n",
              "      <td>437.156272</td>\n",
              "    </tr>\n",
              "    <tr>\n",
              "      <th>std</th>\n",
              "      <td>73.083717</td>\n",
              "      <td>8.518868e+05</td>\n",
              "      <td>2.213434e+04</td>\n",
              "      <td>43.057581</td>\n",
              "      <td>56.439756</td>\n",
              "    </tr>\n",
              "    <tr>\n",
              "      <th>min</th>\n",
              "      <td>2.000000</td>\n",
              "      <td>1.432001e+01</td>\n",
              "      <td>1.022858e+00</td>\n",
              "      <td>152.000000</td>\n",
              "      <td>181.000000</td>\n",
              "    </tr>\n",
              "    <tr>\n",
              "      <th>25%</th>\n",
              "      <td>24.000000</td>\n",
              "      <td>1.737815e+03</td>\n",
              "      <td>4.135075e+01</td>\n",
              "      <td>178.000000</td>\n",
              "      <td>408.000000</td>\n",
              "    </tr>\n",
              "    <tr>\n",
              "      <th>50%</th>\n",
              "      <td>46.000000</td>\n",
              "      <td>3.745995e+03</td>\n",
              "      <td>7.488665e+01</td>\n",
              "      <td>212.000000</td>\n",
              "      <td>464.000000</td>\n",
              "    </tr>\n",
              "    <tr>\n",
              "      <th>75%</th>\n",
              "      <td>87.000000</td>\n",
              "      <td>8.114473e+03</td>\n",
              "      <td>1.436514e+02</td>\n",
              "      <td>248.000000</td>\n",
              "      <td>480.000000</td>\n",
              "    </tr>\n",
              "    <tr>\n",
              "      <th>max</th>\n",
              "      <td>951.000000</td>\n",
              "      <td>9.200407e+07</td>\n",
              "      <td>2.445118e+06</td>\n",
              "      <td>302.000000</td>\n",
              "      <td>484.000000</td>\n",
              "    </tr>\n",
              "  </tbody>\n",
              "</table>\n",
              "</div>"
            ],
            "text/plain": [
              "          frequency      monetary  avg_monetary       recency           aon\n",
              "count  28924.000000  2.892400e+04  2.892400e+04  28924.000000  28924.000000\n",
              "mean      69.245229  2.908554e+04  5.652139e+02    214.060538    437.156272\n",
              "std       73.083717  8.518868e+05  2.213434e+04     43.057581     56.439756\n",
              "min        2.000000  1.432001e+01  1.022858e+00    152.000000    181.000000\n",
              "25%       24.000000  1.737815e+03  4.135075e+01    178.000000    408.000000\n",
              "50%       46.000000  3.745995e+03  7.488665e+01    212.000000    464.000000\n",
              "75%       87.000000  8.114473e+03  1.436514e+02    248.000000    480.000000\n",
              "max      951.000000  9.200407e+07  2.445118e+06    302.000000    484.000000"
            ]
          },
          "metadata": {
            "tags": []
          },
          "execution_count": 64
        }
      ]
    },
    {
      "cell_type": "code",
      "metadata": {
        "id": "I4G_CUT0jFiG",
        "colab_type": "code",
        "outputId": "8def7217-f610-442e-9798-37743e737646",
        "colab": {
          "base_uri": "https://localhost:8080/",
          "height": 297
        }
      },
      "source": [
        "rfm_cust[rfm_cust['rfm']=='311'].describe()"
      ],
      "execution_count": 0,
      "outputs": [
        {
          "output_type": "execute_result",
          "data": {
            "text/html": [
              "<div>\n",
              "<style scoped>\n",
              "    .dataframe tbody tr th:only-of-type {\n",
              "        vertical-align: middle;\n",
              "    }\n",
              "\n",
              "    .dataframe tbody tr th {\n",
              "        vertical-align: top;\n",
              "    }\n",
              "\n",
              "    .dataframe thead th {\n",
              "        text-align: right;\n",
              "    }\n",
              "</style>\n",
              "<table border=\"1\" class=\"dataframe\">\n",
              "  <thead>\n",
              "    <tr style=\"text-align: right;\">\n",
              "      <th></th>\n",
              "      <th>frequency</th>\n",
              "      <th>monetary</th>\n",
              "      <th>avg_monetary</th>\n",
              "      <th>recency</th>\n",
              "      <th>aon</th>\n",
              "    </tr>\n",
              "  </thead>\n",
              "  <tbody>\n",
              "    <tr>\n",
              "      <th>count</th>\n",
              "      <td>289125.000000</td>\n",
              "      <td>2.891250e+05</td>\n",
              "      <td>2.891250e+05</td>\n",
              "      <td>289125.000000</td>\n",
              "      <td>289125.000000</td>\n",
              "    </tr>\n",
              "    <tr>\n",
              "      <th>mean</th>\n",
              "      <td>99.225999</td>\n",
              "      <td>3.627150e+04</td>\n",
              "      <td>4.385603e+02</td>\n",
              "      <td>33.953415</td>\n",
              "      <td>339.504761</td>\n",
              "    </tr>\n",
              "    <tr>\n",
              "      <th>std</th>\n",
              "      <td>110.170508</td>\n",
              "      <td>9.430773e+05</td>\n",
              "      <td>1.945910e+04</td>\n",
              "      <td>35.726257</td>\n",
              "      <td>120.057696</td>\n",
              "    </tr>\n",
              "    <tr>\n",
              "      <th>min</th>\n",
              "      <td>2.000000</td>\n",
              "      <td>1.060000e+01</td>\n",
              "      <td>1.546501e+00</td>\n",
              "      <td>0.000000</td>\n",
              "      <td>120.000000</td>\n",
              "    </tr>\n",
              "    <tr>\n",
              "      <th>25%</th>\n",
              "      <td>32.000000</td>\n",
              "      <td>2.640580e+03</td>\n",
              "      <td>4.680778e+01</td>\n",
              "      <td>5.000000</td>\n",
              "      <td>230.000000</td>\n",
              "    </tr>\n",
              "    <tr>\n",
              "      <th>50%</th>\n",
              "      <td>63.000000</td>\n",
              "      <td>5.754220e+03</td>\n",
              "      <td>8.590759e+01</td>\n",
              "      <td>20.000000</td>\n",
              "      <td>347.000000</td>\n",
              "    </tr>\n",
              "    <tr>\n",
              "      <th>75%</th>\n",
              "      <td>123.000000</td>\n",
              "      <td>1.288668e+04</td>\n",
              "      <td>1.658920e+02</td>\n",
              "      <td>54.000000</td>\n",
              "      <td>467.000000</td>\n",
              "    </tr>\n",
              "    <tr>\n",
              "      <th>max</th>\n",
              "      <td>1786.000000</td>\n",
              "      <td>1.100148e+08</td>\n",
              "      <td>6.406137e+06</td>\n",
              "      <td>151.000000</td>\n",
              "      <td>484.000000</td>\n",
              "    </tr>\n",
              "  </tbody>\n",
              "</table>\n",
              "</div>"
            ],
            "text/plain": [
              "           frequency      monetary  avg_monetary        recency            aon\n",
              "count  289125.000000  2.891250e+05  2.891250e+05  289125.000000  289125.000000\n",
              "mean       99.225999  3.627150e+04  4.385603e+02      33.953415     339.504761\n",
              "std       110.170508  9.430773e+05  1.945910e+04      35.726257     120.057696\n",
              "min         2.000000  1.060000e+01  1.546501e+00       0.000000     120.000000\n",
              "25%        32.000000  2.640580e+03  4.680778e+01       5.000000     230.000000\n",
              "50%        63.000000  5.754220e+03  8.590759e+01      20.000000     347.000000\n",
              "75%       123.000000  1.288668e+04  1.658920e+02      54.000000     467.000000\n",
              "max      1786.000000  1.100148e+08  6.406137e+06     151.000000     484.000000"
            ]
          },
          "metadata": {
            "tags": []
          },
          "execution_count": 69
        }
      ]
    },
    {
      "cell_type": "code",
      "metadata": {
        "id": "qKLHnk4RjFlM",
        "colab_type": "code",
        "outputId": "256f8c30-aa71-4a43-f8b3-08d5131ae63c",
        "colab": {
          "base_uri": "https://localhost:8080/",
          "height": 297
        }
      },
      "source": [
        "rfm_cust[rfm_cust['rfm']=='321'].describe()"
      ],
      "execution_count": 0,
      "outputs": [
        {
          "output_type": "execute_result",
          "data": {
            "text/html": [
              "<div>\n",
              "<style scoped>\n",
              "    .dataframe tbody tr th:only-of-type {\n",
              "        vertical-align: middle;\n",
              "    }\n",
              "\n",
              "    .dataframe tbody tr th {\n",
              "        vertical-align: top;\n",
              "    }\n",
              "\n",
              "    .dataframe thead th {\n",
              "        text-align: right;\n",
              "    }\n",
              "</style>\n",
              "<table border=\"1\" class=\"dataframe\">\n",
              "  <thead>\n",
              "    <tr style=\"text-align: right;\">\n",
              "      <th></th>\n",
              "      <th>frequency</th>\n",
              "      <th>monetary</th>\n",
              "      <th>avg_monetary</th>\n",
              "      <th>recency</th>\n",
              "      <th>aon</th>\n",
              "    </tr>\n",
              "  </thead>\n",
              "  <tbody>\n",
              "    <tr>\n",
              "      <th>count</th>\n",
              "      <td>3.000000</td>\n",
              "      <td>3.000000</td>\n",
              "      <td>3.000000</td>\n",
              "      <td>3.000000</td>\n",
              "      <td>3.000000</td>\n",
              "    </tr>\n",
              "    <tr>\n",
              "      <th>mean</th>\n",
              "      <td>2393.000000</td>\n",
              "      <td>186763.826173</td>\n",
              "      <td>84.770306</td>\n",
              "      <td>48.000000</td>\n",
              "      <td>481.333333</td>\n",
              "    </tr>\n",
              "    <tr>\n",
              "      <th>std</th>\n",
              "      <td>456.029604</td>\n",
              "      <td>122129.208929</td>\n",
              "      <td>59.664714</td>\n",
              "      <td>60.008333</td>\n",
              "      <td>3.055050</td>\n",
              "    </tr>\n",
              "    <tr>\n",
              "      <th>min</th>\n",
              "      <td>2072.000000</td>\n",
              "      <td>58301.318104</td>\n",
              "      <td>20.000452</td>\n",
              "      <td>8.000000</td>\n",
              "      <td>478.000000</td>\n",
              "    </tr>\n",
              "    <tr>\n",
              "      <th>25%</th>\n",
              "      <td>2132.000000</td>\n",
              "      <td>129456.029294</td>\n",
              "      <td>58.410154</td>\n",
              "      <td>13.500000</td>\n",
              "      <td>480.000000</td>\n",
              "    </tr>\n",
              "    <tr>\n",
              "      <th>50%</th>\n",
              "      <td>2192.000000</td>\n",
              "      <td>200610.740484</td>\n",
              "      <td>96.819855</td>\n",
              "      <td>19.000000</td>\n",
              "      <td>482.000000</td>\n",
              "    </tr>\n",
              "    <tr>\n",
              "      <th>75%</th>\n",
              "      <td>2553.500000</td>\n",
              "      <td>250995.080207</td>\n",
              "      <td>117.155233</td>\n",
              "      <td>68.000000</td>\n",
              "      <td>483.000000</td>\n",
              "    </tr>\n",
              "    <tr>\n",
              "      <th>max</th>\n",
              "      <td>2915.000000</td>\n",
              "      <td>301379.419929</td>\n",
              "      <td>137.490611</td>\n",
              "      <td>117.000000</td>\n",
              "      <td>484.000000</td>\n",
              "    </tr>\n",
              "  </tbody>\n",
              "</table>\n",
              "</div>"
            ],
            "text/plain": [
              "         frequency       monetary  avg_monetary     recency         aon\n",
              "count     3.000000       3.000000      3.000000    3.000000    3.000000\n",
              "mean   2393.000000  186763.826173     84.770306   48.000000  481.333333\n",
              "std     456.029604  122129.208929     59.664714   60.008333    3.055050\n",
              "min    2072.000000   58301.318104     20.000452    8.000000  478.000000\n",
              "25%    2132.000000  129456.029294     58.410154   13.500000  480.000000\n",
              "50%    2192.000000  200610.740484     96.819855   19.000000  482.000000\n",
              "75%    2553.500000  250995.080207    117.155233   68.000000  483.000000\n",
              "max    2915.000000  301379.419929    137.490611  117.000000  484.000000"
            ]
          },
          "metadata": {
            "tags": []
          },
          "execution_count": 66
        }
      ]
    },
    {
      "cell_type": "code",
      "metadata": {
        "id": "JGsZZ1-zjFpA",
        "colab_type": "code",
        "outputId": "791664cb-f141-4c28-c40e-e70f863815c3",
        "colab": {
          "base_uri": "https://localhost:8080/",
          "height": 297
        }
      },
      "source": [
        "rfm_cust[rfm_cust['rfm']=='331'].describe()"
      ],
      "execution_count": 0,
      "outputs": [
        {
          "output_type": "execute_result",
          "data": {
            "text/html": [
              "<div>\n",
              "<style scoped>\n",
              "    .dataframe tbody tr th:only-of-type {\n",
              "        vertical-align: middle;\n",
              "    }\n",
              "\n",
              "    .dataframe tbody tr th {\n",
              "        vertical-align: top;\n",
              "    }\n",
              "\n",
              "    .dataframe thead th {\n",
              "        text-align: right;\n",
              "    }\n",
              "</style>\n",
              "<table border=\"1\" class=\"dataframe\">\n",
              "  <thead>\n",
              "    <tr style=\"text-align: right;\">\n",
              "      <th></th>\n",
              "      <th>frequency</th>\n",
              "      <th>monetary</th>\n",
              "      <th>avg_monetary</th>\n",
              "      <th>recency</th>\n",
              "      <th>aon</th>\n",
              "    </tr>\n",
              "  </thead>\n",
              "  <tbody>\n",
              "    <tr>\n",
              "      <th>count</th>\n",
              "      <td>1.0</td>\n",
              "      <td>1.000000</td>\n",
              "      <td>1.000000</td>\n",
              "      <td>1.0</td>\n",
              "      <td>1.0</td>\n",
              "    </tr>\n",
              "    <tr>\n",
              "      <th>mean</th>\n",
              "      <td>5582.0</td>\n",
              "      <td>381919.737406</td>\n",
              "      <td>68.419874</td>\n",
              "      <td>151.0</td>\n",
              "      <td>437.0</td>\n",
              "    </tr>\n",
              "    <tr>\n",
              "      <th>std</th>\n",
              "      <td>NaN</td>\n",
              "      <td>NaN</td>\n",
              "      <td>NaN</td>\n",
              "      <td>NaN</td>\n",
              "      <td>NaN</td>\n",
              "    </tr>\n",
              "    <tr>\n",
              "      <th>min</th>\n",
              "      <td>5582.0</td>\n",
              "      <td>381919.737406</td>\n",
              "      <td>68.419874</td>\n",
              "      <td>151.0</td>\n",
              "      <td>437.0</td>\n",
              "    </tr>\n",
              "    <tr>\n",
              "      <th>25%</th>\n",
              "      <td>5582.0</td>\n",
              "      <td>381919.737406</td>\n",
              "      <td>68.419874</td>\n",
              "      <td>151.0</td>\n",
              "      <td>437.0</td>\n",
              "    </tr>\n",
              "    <tr>\n",
              "      <th>50%</th>\n",
              "      <td>5582.0</td>\n",
              "      <td>381919.737406</td>\n",
              "      <td>68.419874</td>\n",
              "      <td>151.0</td>\n",
              "      <td>437.0</td>\n",
              "    </tr>\n",
              "    <tr>\n",
              "      <th>75%</th>\n",
              "      <td>5582.0</td>\n",
              "      <td>381919.737406</td>\n",
              "      <td>68.419874</td>\n",
              "      <td>151.0</td>\n",
              "      <td>437.0</td>\n",
              "    </tr>\n",
              "    <tr>\n",
              "      <th>max</th>\n",
              "      <td>5582.0</td>\n",
              "      <td>381919.737406</td>\n",
              "      <td>68.419874</td>\n",
              "      <td>151.0</td>\n",
              "      <td>437.0</td>\n",
              "    </tr>\n",
              "  </tbody>\n",
              "</table>\n",
              "</div>"
            ],
            "text/plain": [
              "       frequency       monetary  avg_monetary  recency    aon\n",
              "count        1.0       1.000000      1.000000      1.0    1.0\n",
              "mean      5582.0  381919.737406     68.419874    151.0  437.0\n",
              "std          NaN            NaN           NaN      NaN    NaN\n",
              "min       5582.0  381919.737406     68.419874    151.0  437.0\n",
              "25%       5582.0  381919.737406     68.419874    151.0  437.0\n",
              "50%       5582.0  381919.737406     68.419874    151.0  437.0\n",
              "75%       5582.0  381919.737406     68.419874    151.0  437.0\n",
              "max       5582.0  381919.737406     68.419874    151.0  437.0"
            ]
          },
          "metadata": {
            "tags": []
          },
          "execution_count": 67
        }
      ]
    },
    {
      "cell_type": "code",
      "metadata": {
        "id": "HWiO3gW8jFrf",
        "colab_type": "code",
        "outputId": "008661e3-15f1-40a2-bdd6-0c6735d51eba",
        "colab": {
          "base_uri": "https://localhost:8080/",
          "height": 297
        }
      },
      "source": [
        "rfm_cust[rfm_cust['rfm']=='213'].describe()"
      ],
      "execution_count": 0,
      "outputs": [
        {
          "output_type": "execute_result",
          "data": {
            "text/html": [
              "<div>\n",
              "<style scoped>\n",
              "    .dataframe tbody tr th:only-of-type {\n",
              "        vertical-align: middle;\n",
              "    }\n",
              "\n",
              "    .dataframe tbody tr th {\n",
              "        vertical-align: top;\n",
              "    }\n",
              "\n",
              "    .dataframe thead th {\n",
              "        text-align: right;\n",
              "    }\n",
              "</style>\n",
              "<table border=\"1\" class=\"dataframe\">\n",
              "  <thead>\n",
              "    <tr style=\"text-align: right;\">\n",
              "      <th></th>\n",
              "      <th>frequency</th>\n",
              "      <th>monetary</th>\n",
              "      <th>avg_monetary</th>\n",
              "      <th>recency</th>\n",
              "      <th>aon</th>\n",
              "    </tr>\n",
              "  </thead>\n",
              "  <tbody>\n",
              "    <tr>\n",
              "      <th>count</th>\n",
              "      <td>1.0</td>\n",
              "      <td>1.000000e+00</td>\n",
              "      <td>1.000000e+00</td>\n",
              "      <td>1.0</td>\n",
              "      <td>1.0</td>\n",
              "    </tr>\n",
              "    <tr>\n",
              "      <th>mean</th>\n",
              "      <td>19.0</td>\n",
              "      <td>4.000001e+09</td>\n",
              "      <td>2.105263e+08</td>\n",
              "      <td>231.0</td>\n",
              "      <td>372.0</td>\n",
              "    </tr>\n",
              "    <tr>\n",
              "      <th>std</th>\n",
              "      <td>NaN</td>\n",
              "      <td>NaN</td>\n",
              "      <td>NaN</td>\n",
              "      <td>NaN</td>\n",
              "      <td>NaN</td>\n",
              "    </tr>\n",
              "    <tr>\n",
              "      <th>min</th>\n",
              "      <td>19.0</td>\n",
              "      <td>4.000001e+09</td>\n",
              "      <td>2.105263e+08</td>\n",
              "      <td>231.0</td>\n",
              "      <td>372.0</td>\n",
              "    </tr>\n",
              "    <tr>\n",
              "      <th>25%</th>\n",
              "      <td>19.0</td>\n",
              "      <td>4.000001e+09</td>\n",
              "      <td>2.105263e+08</td>\n",
              "      <td>231.0</td>\n",
              "      <td>372.0</td>\n",
              "    </tr>\n",
              "    <tr>\n",
              "      <th>50%</th>\n",
              "      <td>19.0</td>\n",
              "      <td>4.000001e+09</td>\n",
              "      <td>2.105263e+08</td>\n",
              "      <td>231.0</td>\n",
              "      <td>372.0</td>\n",
              "    </tr>\n",
              "    <tr>\n",
              "      <th>75%</th>\n",
              "      <td>19.0</td>\n",
              "      <td>4.000001e+09</td>\n",
              "      <td>2.105263e+08</td>\n",
              "      <td>231.0</td>\n",
              "      <td>372.0</td>\n",
              "    </tr>\n",
              "    <tr>\n",
              "      <th>max</th>\n",
              "      <td>19.0</td>\n",
              "      <td>4.000001e+09</td>\n",
              "      <td>2.105263e+08</td>\n",
              "      <td>231.0</td>\n",
              "      <td>372.0</td>\n",
              "    </tr>\n",
              "  </tbody>\n",
              "</table>\n",
              "</div>"
            ],
            "text/plain": [
              "       frequency      monetary  avg_monetary  recency    aon\n",
              "count        1.0  1.000000e+00  1.000000e+00      1.0    1.0\n",
              "mean        19.0  4.000001e+09  2.105263e+08    231.0  372.0\n",
              "std          NaN           NaN           NaN      NaN    NaN\n",
              "min         19.0  4.000001e+09  2.105263e+08    231.0  372.0\n",
              "25%         19.0  4.000001e+09  2.105263e+08    231.0  372.0\n",
              "50%         19.0  4.000001e+09  2.105263e+08    231.0  372.0\n",
              "75%         19.0  4.000001e+09  2.105263e+08    231.0  372.0\n",
              "max         19.0  4.000001e+09  2.105263e+08    231.0  372.0"
            ]
          },
          "metadata": {
            "tags": []
          },
          "execution_count": 68
        }
      ]
    }
  ]
}